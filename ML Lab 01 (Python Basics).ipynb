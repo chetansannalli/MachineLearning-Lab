{
 "cells": [
  {
   "cell_type": "code",
   "execution_count": 27,
   "metadata": {},
   "outputs": [
    {
     "name": "stdout",
     "output_type": "stream",
     "text": [
      "1.ADD  2.SUB  3.MUL  4.DIV  5.MOD  6.EXIT\n",
      "Enter operation to be performed: 1\n",
      "Enter operand 1: 2\n",
      "ENter operand 2: 3\n",
      "Addition:  5\n",
      "1.ADD  2.SUB  3.MUL  4.DIV  5.MOD  6.EXIT\n",
      "Enter operation to be performed: 6\n",
      "Enter operand 1: 1\n",
      "ENter operand 2: 2\n"
     ]
    }
   ],
   "source": [
    "# Simpe calculator\n",
    "def calculator():\n",
    "    \n",
    "    while(True):\n",
    "        print(\"1.ADD  2.SUB  3.MUL  4.DIV  5.MOD  6.EXIT\")\n",
    "        oper = int(input(\"Enter operation to be performed: \"))\n",
    "        \n",
    "        op1 = int(input(\"Enter operand 1: \"))\n",
    "        op2 = int(input(\"ENter operand 2: \"))\n",
    "\n",
    "        \n",
    "\n",
    "        if(oper == 1):\n",
    "            print(\"Addition: \", op1+op2, \"\\n\")\n",
    "        elif(oper == 2):\n",
    "            print(\"SUbtraction: \", op1-op2, \"\\n\")\n",
    "        elif(oper == 3):\n",
    "            print(\"Multiplication: \", op1*op2, \"\\n\")\n",
    "        elif(oper == 4):\n",
    "            if(op2 == 0):\n",
    "                print(\"Cannot be divided\")\n",
    "            else:\n",
    "                print(\"Division: \", op1/op2, \"\\n\")\n",
    "        elif(oper == 5):\n",
    "            print(\"Modulus: \", op1%op2)\n",
    "        elif(oper == 6):\n",
    "            break\n",
    "        else:\n",
    "            print(\"Invalid operator\")\n",
    "            break\n",
    "\n",
    "calculator()"
   ]
  },
  {
   "cell_type": "code",
   "execution_count": null,
   "metadata": {},
   "outputs": [],
   "source": [
    "# for loop\n",
    "l = [10, 20, 30, 'A', 'B', \"Hello\", \"There\", 2.03]\n",
    "for i in range(len(l)):\n",
    "    print(l[i])"
   ]
  },
  {
   "cell_type": "code",
   "execution_count": 28,
   "metadata": {},
   "outputs": [
    {
     "name": "stdout",
     "output_type": "stream",
     "text": [
      "1\n",
      "2\n",
      "3\n",
      "4\n",
      "5\n",
      "List:  [1, 2, 3, 4, 5]\n",
      "Mean is:  3.0\n"
     ]
    }
   ],
   "source": [
    "# List Operations\n",
    "\"\"\" len(l)\n",
    "    l.append(ele)\n",
    "    l.remove(ele)\n",
    "    l.pop() : deletes last element\n",
    "    l.pop(index) : deletes element at index\n",
    "    \n",
    "    del l[start:end:steps]\n",
    "\"\"\""
   ]
  },
  {
   "cell_type": "code",
   "execution_count": 51,
   "metadata": {},
   "outputs": [
    {
     "name": "stdout",
     "output_type": "stream",
     "text": [
      "Mean:  3.2857142857142856\n",
      "Median:  3\n",
      "Mode:  5\n"
     ]
    }
   ],
   "source": [
    "# Mean, Median and Mode through inbuilt functions\n",
    "import statistics as st\n",
    "l1 = [2,4,1,5,3,3,5]\n",
    "print( \"Mean: \", st.mean(l1) )\n",
    "print( \"Median: \", st.median(l1) )\n",
    "print( \"Mode: \", st.mode(l1) )\n"
   ]
  },
  {
   "cell_type": "code",
   "execution_count": 52,
   "metadata": {},
   "outputs": [
    {
     "name": "stdout",
     "output_type": "stream",
     "text": [
      "List:  [2, 4, 1, 5, 3, 3, 5] \n",
      "\n",
      "Mean:  3.2857142857142856\n",
      "Median:  3\n",
      "Mode:  5\n"
     ]
    }
   ],
   "source": [
    "# Mean, Median and Mode without inbuilt functions\n",
    "print(\"List: \", l1, \"\\n\")\n",
    "\n",
    "# MEAN\n",
    "sum = 0\n",
    "length = len(l1)\n",
    "for i in range(length):\n",
    "    sum = sum + l1[i]\n",
    "    \n",
    "print(\"Mean: \", sum/length)\n",
    "\n",
    "#MEDIAN\n",
    "x = int(length/2)\n",
    "l1.sort()\n",
    "if(int(length%2) == 0):\n",
    "    median = ( l1[x] + l1[x-1] ) / 2\n",
    "else:\n",
    "    median = l1[x]\n",
    "\n",
    "print(\"Median: \", median)\n",
    "\n",
    "#MODE\n",
    "maxium = 0\n",
    "for n in l1:\n",
    "    count = 0\n",
    "    for i in range(length):\n",
    "        if(l1[i] == n):\n",
    "            count = count + 1\n",
    "    \n",
    "    if(count >= maxium):\n",
    "        maxium = count\n",
    "        mode = n\n",
    "\n",
    "print(\"Mode: \", mode)"
   ]
  },
  {
   "cell_type": "code",
   "execution_count": 29,
   "metadata": {},
   "outputs": [
    {
     "name": "stdout",
     "output_type": "stream",
     "text": [
      "Before delelting [10, 20, 30, 'A', 'B', 'Hello', 'There', 2.03]\n",
      "Before delelting [10, 20, 'Hello', 'There', 2.03]\n"
     ]
    }
   ],
   "source": [
    "# Delete list from a list\n",
    "ls = [10, 20, 30, 'A', 'B', \"Hello\", \"There\", 2.03]\n",
    "print(\"Before delelting\", ls)\n",
    "\n",
    "del ls[2:5] # Slicing and deleting\n",
    "\n",
    "print(\"Before delelting\", ls)"
   ]
  },
  {
   "cell_type": "code",
   "execution_count": null,
   "metadata": {},
   "outputs": [],
   "source": []
  }
 ],
 "metadata": {
  "kernelspec": {
   "display_name": "Python 3",
   "language": "python",
   "name": "python3"
  },
  "language_info": {
   "codemirror_mode": {
    "name": "ipython",
    "version": 3
   },
   "file_extension": ".py",
   "mimetype": "text/x-python",
   "name": "python",
   "nbconvert_exporter": "python",
   "pygments_lexer": "ipython3",
   "version": "3.8.10"
  }
 },
 "nbformat": 4,
 "nbformat_minor": 4
}
