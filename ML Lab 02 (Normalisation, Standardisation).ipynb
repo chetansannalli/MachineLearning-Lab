{
 "cells": [
  {
   "cell_type": "markdown",
   "metadata": {},
   "source": [
    "# Normalisation"
   ]
  },
  {
   "cell_type": "code",
   "execution_count": 1,
   "metadata": {},
   "outputs": [],
   "source": [
    "arr = [10, 23, 3, 45, 121, 7, 13, 76, 42, 89]"
   ]
  },
  {
   "cell_type": "code",
   "execution_count": 2,
   "metadata": {},
   "outputs": [
    {
     "name": "stdout",
     "output_type": "stream",
     "text": [
      "Before Normalising  [10, 23, 3, 45, 121, 7, 13, 76, 42, 89]\n",
      "After Normalising  [0.06, 0.17, 0.0, 0.36, 1.0, 0.03, 0.08, 0.62, 0.33, 0.73]\n"
     ]
    }
   ],
   "source": [
    "# User defined Normalizer for 1D array\n",
    "norm = []\n",
    "mx = max(arr)\n",
    "mn = min(arr)\n",
    "\n",
    "for i in range(len(arr)):\n",
    "    s = (arr[i] - mn) / (mx - mn)\n",
    "    norm.append(round(s, 2))\n",
    "\n",
    "print(\"Before Normalising \", arr)\n",
    "print(\"After Normalising \", norm)"
   ]
  },
  {
   "cell_type": "code",
   "execution_count": 28,
   "metadata": {},
   "outputs": [
    {
     "name": "stdout",
     "output_type": "stream",
     "text": [
      "[[1.         0.        ]\n",
      " [0.04166667 0.1       ]\n",
      " [0.47916667 0.6       ]\n",
      " [0.79166667 0.4       ]\n",
      " [0.         1.        ]]\n"
     ]
    }
   ],
   "source": [
    "# Inbuilt normalizer for 2D array\n",
    "\n",
    "from numpy import asarray\n",
    "from sklearn.preprocessing import MinMaxScaler\n",
    "\n",
    "data = asarray( [[100, 1], [8, 5], [50, 25], [80, 17], [4, 41]])\n",
    "scaler = MinMaxScaler()\n",
    "scaled = scaler.fit(data)\n",
    "print(scaled.transform(data))"
   ]
  },
  {
   "cell_type": "code",
   "execution_count": 29,
   "metadata": {},
   "outputs": [
    {
     "data": {
      "text/plain": [
       "array([[0.99995   , 0.0099995 ],\n",
       "       [0.8479983 , 0.52999894],\n",
       "       [0.89442719, 0.4472136 ],\n",
       "       [0.97815885, 0.20785876],\n",
       "       [0.09709996, 0.99527463]])"
      ]
     },
     "execution_count": 29,
     "metadata": {},
     "output_type": "execute_result"
    }
   ],
   "source": [
    "# Inbuilt normalizer for 2D array\n",
    "\n",
    "from sklearn.preprocessing import Normalizer\n",
    "\n",
    "transformer = Normalizer().fit(data)\n",
    "transformer.transform(data)"
   ]
  },
  {
   "cell_type": "code",
   "execution_count": 45,
   "metadata": {},
   "outputs": [
    {
     "name": "stdout",
     "output_type": "stream",
     "text": [
      "2 5\n",
      "[[1.0, 0.0], [1.0, 0.0], [1.0, 0.0], [1.0, 0.0], [0.0, 1.0]]\n"
     ]
    }
   ],
   "source": [
    "# User defined Normalizer for 2D array\n",
    "# custom Normalizer\n",
    "\n",
    "def Normaliser(arr):\n",
    "    norm = []\n",
    "    print(len(arr[0]), len(arr))\n",
    "    for i in arr:\n",
    "        t = []\n",
    "        for j in i:\n",
    "            t.append(j)\n",
    "            \n",
    "        mx = max(t)\n",
    "        mn = min(t)\n",
    "        \n",
    "        temp = []\n",
    "        for i in range(len(t)):\n",
    "            s = (t[i] - mn) / (mx - mn)\n",
    "            temp.append(round(s, 2))\n",
    "        \n",
    "        norm.append(temp)\n",
    "        \n",
    "    print(norm)\n",
    "\n",
    "Normaliser(data)"
   ]
  },
  {
   "cell_type": "code",
   "execution_count": 60,
   "metadata": {},
   "outputs": [
    {
     "name": "stdout",
     "output_type": "stream",
     "text": [
      "[[1.0, 0.04, 0.48, 0.79, 0.0], [0.0, 0.1, 0.6, 0.4, 1.0]]\n"
     ]
    }
   ],
   "source": [
    "# User defined Normalizer for 2D array\n",
    "# custom MinMaxScaler\n",
    "\n",
    "def MnMxScaler(arr):\n",
    "    norm = []\n",
    "    for j in range(len(arr[0])):\n",
    "        t = []\n",
    "        for i in range(len(arr)):\n",
    "            t.append(arr[i][j])\n",
    "            \n",
    "        mx = max(t)\n",
    "        mn = min(t)\n",
    "        \n",
    "        temp = []\n",
    "        for i in range(len(t)):\n",
    "            s = (t[i] - mn) / (mx - mn)\n",
    "            temp.append(round(s, 2))\n",
    "        \n",
    "        norm.append(temp)\n",
    "        \n",
    "    print(norm)\n",
    "\n",
    "MnMxScaler(data)"
   ]
  },
  {
   "cell_type": "code",
   "execution_count": 44,
   "metadata": {},
   "outputs": [
    {
     "name": "stdout",
     "output_type": "stream",
     "text": [
      "Mean:  0.14285714285714285\n",
      "Median:  1\n",
      "Mode:  1\n",
      "Variance:  1.1428571428571428\n",
      "deviation:  1.0690449676496976\n"
     ]
    }
   ],
   "source": [
    "import statistics as st\n",
    "l1 = [-1,1,1,-1,1,-1,1]\n",
    "print( \"Mean: \", st.mean(l1) )\n",
    "print( \"Median: \", st.median(l1) )\n",
    "print( \"Mode: \", st.mode(l1) )\n",
    "print( \"Variance: \", st.variance(l1))\n",
    "print( \"deviation: \", st.stdev(l1))"
   ]
  },
  {
   "cell_type": "markdown",
   "metadata": {},
   "source": [
    "# Standardiation"
   ]
  },
  {
   "cell_type": "code",
   "execution_count": null,
   "metadata": {},
   "outputs": [],
   "source": [
    "from sklearn.preprocessing import StandardScaler\n",
    "X = data\n"
   ]
  }
 ],
 "metadata": {
  "kernelspec": {
   "display_name": "Python 3",
   "language": "python",
   "name": "python3"
  },
  "language_info": {
   "codemirror_mode": {
    "name": "ipython",
    "version": 3
   },
   "file_extension": ".py",
   "mimetype": "text/x-python",
   "name": "python",
   "nbconvert_exporter": "python",
   "pygments_lexer": "ipython3",
   "version": "3.8.10"
  }
 },
 "nbformat": 4,
 "nbformat_minor": 4
}
